{
 "cells": [
  {
   "cell_type": "code",
   "execution_count": 25,
   "metadata": {
    "id": "Lc3UAekc8US9"
   },
   "outputs": [],
   "source": [
    "import pandas as pd\n",
    "import numpy as np"
   ]
  },
  {
   "cell_type": "code",
   "execution_count": 26,
   "metadata": {
    "id": "ZT_lrSP78YYB"
   },
   "outputs": [],
   "source": [
    "import matplotlib.pyplot as plt\n"
   ]
  },
  {
   "cell_type": "code",
   "execution_count": 27,
   "metadata": {
    "id": "AQAeP0u29Dhe"
   },
   "outputs": [],
   "source": [
    "data=pd.read_csv('steam_train.csv')"
   ]
  },
  {
   "cell_type": "code",
   "execution_count": 28,
   "metadata": {},
   "outputs": [
    {
     "data": {
      "text/plain": [
       "0-20000                17237\n",
       "20000-50000             2820\n",
       "50000-100000            1551\n",
       "100000-200000           1275\n",
       "200000-500000           1175\n",
       "500000-1000000           474\n",
       "1000000-2000000          267\n",
       "2000000-5000000          177\n",
       "5000000-10000000          42\n",
       "10000000-20000000         20\n",
       "20000000-50000000          3\n",
       "50000000-100000000         2\n",
       "100000000-200000000        1\n",
       "Name: owners, dtype: int64"
      ]
     },
     "execution_count": 28,
     "metadata": {},
     "output_type": "execute_result"
    }
   ],
   "source": [
    "data.owners.value_counts().sort_values(ascending=False).head(20)\n"
   ]
  },
  {
   "cell_type": "code",
   "execution_count": 29,
   "metadata": {
    "id": "LC4Nu52XDXgr"
   },
   "outputs": [],
   "source": [
    "data1=pd.get_dummies(data['owners'],drop_first=True)\n",
    "data=pd.concat([data1,data],axis=1)\n",
    "data.drop('owners',axis=1,inplace=True)"
   ]
  },
  {
   "cell_type": "code",
   "execution_count": 30,
   "metadata": {
    "id": "-fQUjxUWqj0_"
   },
   "outputs": [],
   "source": [
    "data.drop('100000000-200000000',axis=1,inplace=True)\n",
    "data.drop('20000000-50000000',axis=1,inplace=True)\n",
    "data.drop('50000000-100000000',axis=1,inplace=True)"
   ]
  },
  {
   "cell_type": "code",
   "execution_count": 31,
   "metadata": {
    "colab": {
     "base_uri": "https://localhost:8080/",
     "height": 167
    },
    "id": "54Eq2pzPCDhJ",
    "outputId": "bd576acd-80f9-469a-b5f7-22cd584c965f"
   },
   "outputs": [
    {
     "data": {
      "text/plain": [
       "windows              17009\n",
       "windows;mac;linux     4279\n",
       "windows;mac           3197\n",
       "windows;linux          554\n",
       "mac                      3\n",
       "linux                    1\n",
       "mac;linux                1\n",
       "Name: platforms, dtype: int64"
      ]
     },
     "execution_count": 31,
     "metadata": {},
     "output_type": "execute_result"
    }
   ],
   "source": [
    "data.platforms.value_counts().sort_values(ascending=False).head(20)"
   ]
  },
  {
   "cell_type": "code",
   "execution_count": 32,
   "metadata": {
    "id": "k4bXGPvwG-Jw"
   },
   "outputs": [],
   "source": [
    "data1=pd.get_dummies(data['platforms'],drop_first=True)\n",
    "data=pd.concat([data1,data],axis=1)\n",
    "data.drop('platforms',axis=1,inplace=True)"
   ]
  },
  {
   "cell_type": "code",
   "execution_count": 33,
   "metadata": {
    "id": "lZusPwWKbH6_"
   },
   "outputs": [],
   "source": [
    "\n",
    "data.drop('mac',axis=1,inplace=True)\n",
    "data.drop('mac;linux',axis=1,inplace=True)\n",
    "data.drop('windows',axis=1,inplace=True)\n"
   ]
  },
  {
   "cell_type": "code",
   "execution_count": 34,
   "metadata": {},
   "outputs": [
    {
     "data": {
      "text/plain": [
       "Single-player                                                                                                  5646\n",
       "Single-player;Steam Achievements                                                                               2176\n",
       "Single-player;Steam Achievements;Steam Trading Cards                                                            772\n",
       "Single-player;Partial Controller Support                                                                        735\n",
       "Single-player;Steam Trading Cards                                                                               730\n",
       "Single-player;Steam Achievements;Steam Cloud                                                                    614\n",
       "Single-player;Steam Achievements;Steam Trading Cards;Steam Cloud                                                591\n",
       "Single-player;Steam Achievements;Full controller support;Steam Trading Cards;Steam Cloud                        544\n",
       "Single-player;Full controller support                                                                           512\n",
       "Single-player;Steam Achievements;Full controller support                                                        436\n",
       "Single-player;Steam Achievements;Partial Controller Support                                                     411\n",
       "Single-player;Steam Cloud                                                                                       380\n",
       "Single-player;Steam Achievements;Full controller support;Steam Trading Cards                                    330\n",
       "Single-player;Steam Achievements;Full controller support;Steam Cloud                                            318\n",
       "Single-player;Steam Achievements;Steam Trading Cards;Partial Controller Support                                 250\n",
       "Single-player;Multi-player                                                                                      247\n",
       "Single-player;Steam Achievements;Steam Trading Cards;Partial Controller Support;Steam Cloud                     234\n",
       "Single-player;Steam Achievements;Steam Leaderboards                                                             229\n",
       "Single-player;Steam Achievements;Partial Controller Support;Steam Cloud                                         181\n",
       "Single-player;Steam Achievements;Full controller support;Steam Trading Cards;Steam Cloud;Steam Leaderboards     176\n",
       "Name: categories, dtype: int64"
      ]
     },
     "execution_count": 34,
     "metadata": {},
     "output_type": "execute_result"
    }
   ],
   "source": [
    "data.categories.value_counts().sort_values(ascending=False).head(20)"
   ]
  },
  {
   "cell_type": "code",
   "execution_count": 35,
   "metadata": {},
   "outputs": [],
   "source": [
    "top5=[x for x in data.categories.value_counts().sort_values(ascending=False).head(5).index]\n",
    "for label in top5:\n",
    "    data[label]=np.where(data['categories']==label,1,0)\n",
    "data.drop('categories',axis=1,inplace=True)    "
   ]
  },
  {
   "cell_type": "code",
   "execution_count": 36,
   "metadata": {},
   "outputs": [
    {
     "data": {
      "text/plain": [
       "Action;Indie                     1695\n",
       "Casual;Indie                     1386\n",
       "Action;Adventure;Indie           1132\n",
       "Adventure;Indie                  1068\n",
       "Action;Casual;Indie               908\n",
       "Action                            782\n",
       "Adventure;Casual;Indie            739\n",
       "Indie                             711\n",
       "Casual                            519\n",
       "Adventure                         500\n",
       "Adventure;Casual                  462\n",
       "Strategy                          448\n",
       "Action;Adventure;Casual;Indie     438\n",
       "Adventure;Indie;RPG               417\n",
       "Casual;Indie;Strategy             413\n",
       "Casual;Indie;Simulation           351\n",
       "Indie;Strategy                    345\n",
       "Action;Adventure                  328\n",
       "Simulation                        307\n",
       "Action;Adventure;Indie;RPG        301\n",
       "Name: genres, dtype: int64"
      ]
     },
     "execution_count": 36,
     "metadata": {},
     "output_type": "execute_result"
    }
   ],
   "source": [
    "data.genres.value_counts().sort_values(ascending=False).head(20)"
   ]
  },
  {
   "cell_type": "code",
   "execution_count": 37,
   "metadata": {},
   "outputs": [],
   "source": [
    "top5=[x for x in data.genres.value_counts().sort_values(ascending=False).head(5).index]\n",
    "for label in top5:\n",
    "    data[label]=np.where(data['genres']==label,1,0)\n",
    "data.drop('genres',axis=1,inplace=True)    "
   ]
  },
  {
   "cell_type": "code",
   "execution_count": 38,
   "metadata": {},
   "outputs": [],
   "source": [
    "data.to_csv('jimmycho.csv')"
   ]
  },
  {
   "cell_type": "code",
   "execution_count": 39,
   "metadata": {},
   "outputs": [],
   "source": [
    "data.drop('name',axis=1,inplace=True) "
   ]
  },
  {
   "cell_type": "code",
   "execution_count": 40,
   "metadata": {},
   "outputs": [
    {
     "data": {
      "text/plain": [
       "Choice of Games               89\n",
       "KOEI TECMO GAMES CO., LTD.    64\n",
       "Ripknot Systems               58\n",
       "Laush Dmitriy Sergeevich      48\n",
       "RewindApp                     42\n",
       "Nikita \"Ghost_RUS\"            41\n",
       "Dexion Games                  40\n",
       "Hosted Games                  39\n",
       "Blender Games                 36\n",
       "For Kids                      32\n",
       "EnsenaSoft                    32\n",
       "Humongous Entertainment       32\n",
       "Warfare Studios               30\n",
       "HeR Interactive               30\n",
       "Eipix Entertainment           28\n",
       "Creobit                       28\n",
       "Sly                           26\n",
       "Nekyau Games                  26\n",
       "Valve                         25\n",
       "ERS G Studios                 25\n",
       "Name: developer, dtype: int64"
      ]
     },
     "execution_count": 40,
     "metadata": {},
     "output_type": "execute_result"
    }
   ],
   "source": [
    "data.developer.value_counts().sort_values(ascending=False).head(20)"
   ]
  },
  {
   "cell_type": "code",
   "execution_count": 41,
   "metadata": {},
   "outputs": [],
   "source": [
    "top5=[x for x in data.developer.value_counts().sort_values(ascending=False).head(5).index]\n",
    "for label in top5:\n",
    "    data[label]=np.where(data['developer']==label,1,0)\n",
    "data.drop('developer',axis=1,inplace=True) "
   ]
  },
  {
   "cell_type": "code",
   "execution_count": 42,
   "metadata": {},
   "outputs": [
    {
     "data": {
      "text/plain": [
       "Big Fish Games                197\n",
       "Strategy First                125\n",
       "Ubisoft                       102\n",
       "Square Enix                    93\n",
       "THQ Nordic                     93\n",
       "Choice of Games                89\n",
       "Sekai Project                  89\n",
       "Dagestan Technology            82\n",
       "1C Entertainment               82\n",
       "SEGA                           74\n",
       "Degica                         72\n",
       "Plug In Digital                69\n",
       "Slitherine Ltd.                68\n",
       "AGM PLAYISM                    65\n",
       "KOEI TECMO GAMES CO., LTD.     65\n",
       "KISS ltd                       63\n",
       "Atriagames                     62\n",
       "Devolver Digital               59\n",
       "Buka Entertainment             58\n",
       "Artifex Mundi                  58\n",
       "Name: publisher, dtype: int64"
      ]
     },
     "execution_count": 42,
     "metadata": {},
     "output_type": "execute_result"
    }
   ],
   "source": [
    "data.publisher.value_counts().sort_values(ascending=False).head(20)"
   ]
  },
  {
   "cell_type": "code",
   "execution_count": 43,
   "metadata": {},
   "outputs": [],
   "source": [
    "top5=[x for x in data.publisher.value_counts().sort_values(ascending=False).head(5).index]\n",
    "for label in top5:\n",
    "    data[label]=np.where(data['publisher']==label,1,0)\n",
    "data.drop('publisher',axis=1,inplace=True) "
   ]
  },
  {
   "cell_type": "code",
   "execution_count": 44,
   "metadata": {},
   "outputs": [
    {
     "data": {
      "text/plain": [
       "Action;Indie;Casual               764\n",
       "Action;Adventure;Indie            650\n",
       "Early Access;Action;Indie         473\n",
       "Adventure;Indie;Casual            414\n",
       "Indie;Casual                      354\n",
       "Action;Indie;Adventure            294\n",
       "Action;Indie                      267\n",
       "Adventure;Casual;Hidden Object    227\n",
       "Indie;Casual;Puzzle               224\n",
       "Indie;Casual;Simulation           208\n",
       "Indie;Action;Adventure            197\n",
       "Strategy;Indie;Casual             167\n",
       "Adventure;RPG;Indie               164\n",
       "Indie;Casual;Adventure            161\n",
       "Early Access;Action;Adventure     160\n",
       "Casual;Indie;Puzzle               148\n",
       "Casual;Strategy;Indie             144\n",
       "Casual;Action;Indie               142\n",
       "Indie;Casual;Action               135\n",
       "Indie                             130\n",
       "Name: steamspy_tags, dtype: int64"
      ]
     },
     "execution_count": 44,
     "metadata": {},
     "output_type": "execute_result"
    }
   ],
   "source": [
    "data.steamspy_tags.value_counts().sort_values(ascending=False).head(20)"
   ]
  },
  {
   "cell_type": "code",
   "execution_count": 45,
   "metadata": {},
   "outputs": [],
   "source": [
    "top5=[x for x in data.steamspy_tags.value_counts().sort_values(ascending=False).head(5).index]\n",
    "for label in top5:\n",
    "    data[label]=np.where(data['steamspy_tags']==label,1,0)\n",
    "data.drop('steamspy_tags',axis=1,inplace=True) "
   ]
  },
  {
   "cell_type": "code",
   "execution_count": 48,
   "metadata": {},
   "outputs": [
    {
     "data": {
      "text/plain": [
       "0    2017-09-28\n",
       "1    2017-06-29\n",
       "2    2017-09-07\n",
       "3    2017-02-15\n",
       "Name: release_date, dtype: object"
      ]
     },
     "execution_count": 48,
     "metadata": {},
     "output_type": "execute_result"
    }
   ],
   "source": [
    "data['release_date'].head(4)"
   ]
  },
  {
   "cell_type": "code",
   "execution_count": 49,
   "metadata": {},
   "outputs": [],
   "source": [
    "import datetime"
   ]
  },
  {
   "cell_type": "code",
   "execution_count": 53,
   "metadata": {},
   "outputs": [],
   "source": [
    "data.release_date=pd.to_datetime(data.release_date)"
   ]
  },
  {
   "cell_type": "code",
   "execution_count": 58,
   "metadata": {},
   "outputs": [
    {
     "name": "stdout",
     "output_type": "stream",
     "text": [
      "2019-05-01 00:00:00\n"
     ]
    }
   ],
   "source": [
    "print(data.release_date.max())"
   ]
  },
  {
   "cell_type": "code",
   "execution_count": 60,
   "metadata": {},
   "outputs": [],
   "source": [
    "temp=data.release_date.max()"
   ]
  },
  {
   "cell_type": "code",
   "execution_count": 63,
   "metadata": {},
   "outputs": [
    {
     "data": {
      "text/plain": [
       "numpy.int64"
      ]
     },
     "execution_count": 63,
     "metadata": {},
     "output_type": "execute_result"
    }
   ],
   "source": []
  },
  {
   "cell_type": "code",
   "execution_count": 64,
   "metadata": {},
   "outputs": [],
   "source": [
    "data['datedays']=data['appid']"
   ]
  },
  {
   "cell_type": "code",
   "execution_count": 82,
   "metadata": {},
   "outputs": [
    {
     "name": "stderr",
     "output_type": "stream",
     "text": [
      "C:\\Users\\sunny\\anaconda3\\lib\\site-packages\\ipykernel_launcher.py:2: SettingWithCopyWarning: \n",
      "A value is trying to be set on a copy of a slice from a DataFrame\n",
      "\n",
      "See the caveats in the documentation: https://pandas.pydata.org/pandas-docs/stable/user_guide/indexing.html#returning-a-view-versus-a-copy\n",
      "  \n"
     ]
    }
   ],
   "source": [
    "for it in range(len(data)):\n",
    "    data['datedays'][it]=abs(temp-data['release_date'][it]).days"
   ]
  },
  {
   "cell_type": "code",
   "execution_count": 83,
   "metadata": {},
   "outputs": [
    {
     "data": {
      "text/plain": [
       "0    580\n",
       "1    671\n",
       "2    601\n",
       "3    805\n",
       "4     71\n",
       "Name: datedays, dtype: int64"
      ]
     },
     "execution_count": 83,
     "metadata": {},
     "output_type": "execute_result"
    }
   ],
   "source": [
    "data['datedays'].head()"
   ]
  },
  {
   "cell_type": "code",
   "execution_count": 84,
   "metadata": {},
   "outputs": [],
   "source": [
    "data.drop('release_date',axis=1,inplace=True)"
   ]
  },
  {
   "cell_type": "code",
   "execution_count": 96,
   "metadata": {},
   "outputs": [],
   "source": [
    "data['actualprice']=data['price']"
   ]
  },
  {
   "cell_type": "code",
   "execution_count": 97,
   "metadata": {},
   "outputs": [],
   "source": [
    "data.drop('price',axis=1,inplace=True)"
   ]
  },
  {
   "cell_type": "code",
   "execution_count": 99,
   "metadata": {},
   "outputs": [],
   "source": [
    "data['winlin']=data['windows;linux']"
   ]
  },
  {
   "cell_type": "code",
   "execution_count": 100,
   "metadata": {},
   "outputs": [],
   "source": [
    "data['windows;linux']=data['appid']"
   ]
  },
  {
   "cell_type": "code",
   "execution_count": 101,
   "metadata": {},
   "outputs": [],
   "source": [
    "data.drop('appid',axis=1,inplace=True)"
   ]
  },
  {
   "cell_type": "code",
   "execution_count": 102,
   "metadata": {},
   "outputs": [],
   "source": [
    "data.rename(columns={'windows;linux': 'appid'}, inplace=True)"
   ]
  },
  {
   "cell_type": "code",
   "execution_count": 106,
   "metadata": {},
   "outputs": [],
   "source": [
    "data['price']=data['actualprice']"
   ]
  },
  {
   "cell_type": "code",
   "execution_count": 107,
   "metadata": {},
   "outputs": [],
   "source": [
    "data.drop('actualprice',axis=1,inplace=True)"
   ]
  },
  {
   "cell_type": "code",
   "execution_count": 108,
   "metadata": {},
   "outputs": [],
   "source": [
    "data.to_csv('ankhonankhon.csv')"
   ]
  },
  {
   "cell_type": "code",
   "execution_count": 207,
   "metadata": {},
   "outputs": [
    {
     "name": "stderr",
     "output_type": "stream",
     "text": [
      "C:\\Users\\sunny\\anaconda3\\lib\\site-packages\\ipykernel_launcher.py:3: SettingWithCopyWarning: \n",
      "A value is trying to be set on a copy of a slice from a DataFrame\n",
      "\n",
      "See the caveats in the documentation: https://pandas.pydata.org/pandas-docs/stable/user_guide/indexing.html#returning-a-view-versus-a-copy\n",
      "  This is separate from the ipykernel package so we can avoid doing imports until\n"
     ]
    }
   ],
   "source": [
    "data['point']=data['appid']\n",
    "for l in range(len(data)):\n",
    "    data['point'][l]=l"
   ]
  },
  {
   "cell_type": "code",
   "execution_count": 154,
   "metadata": {},
   "outputs": [
    {
     "data": {
      "text/html": [
       "<div>\n",
       "<style scoped>\n",
       "    .dataframe tbody tr th:only-of-type {\n",
       "        vertical-align: middle;\n",
       "    }\n",
       "\n",
       "    .dataframe tbody tr th {\n",
       "        vertical-align: top;\n",
       "    }\n",
       "\n",
       "    .dataframe thead th {\n",
       "        text-align: right;\n",
       "    }\n",
       "</style>\n",
       "<table border=\"1\" class=\"dataframe\">\n",
       "  <thead>\n",
       "    <tr style=\"text-align: right;\">\n",
       "      <th></th>\n",
       "      <th>appid</th>\n",
       "      <th>windows;mac</th>\n",
       "      <th>windows;mac;linux</th>\n",
       "      <th>100000-200000</th>\n",
       "      <th>1000000-2000000</th>\n",
       "      <th>10000000-20000000</th>\n",
       "      <th>20000-50000</th>\n",
       "      <th>200000-500000</th>\n",
       "      <th>2000000-5000000</th>\n",
       "      <th>50000-100000</th>\n",
       "      <th>...</th>\n",
       "      <th>Square Enix</th>\n",
       "      <th>THQ Nordic</th>\n",
       "      <th>Action;Indie;Casual</th>\n",
       "      <th>Early Access;Action;Indie</th>\n",
       "      <th>Adventure;Indie;Casual</th>\n",
       "      <th>Indie;Casual</th>\n",
       "      <th>datedays</th>\n",
       "      <th>winlin</th>\n",
       "      <th>price</th>\n",
       "      <th>point</th>\n",
       "    </tr>\n",
       "  </thead>\n",
       "  <tbody>\n",
       "    <tr>\n",
       "      <th>0</th>\n",
       "      <td>708830</td>\n",
       "      <td>0</td>\n",
       "      <td>0</td>\n",
       "      <td>0</td>\n",
       "      <td>0</td>\n",
       "      <td>0</td>\n",
       "      <td>0</td>\n",
       "      <td>0</td>\n",
       "      <td>0</td>\n",
       "      <td>0</td>\n",
       "      <td>...</td>\n",
       "      <td>0</td>\n",
       "      <td>0</td>\n",
       "      <td>0</td>\n",
       "      <td>0</td>\n",
       "      <td>0</td>\n",
       "      <td>0</td>\n",
       "      <td>580</td>\n",
       "      <td>0</td>\n",
       "      <td>2.89</td>\n",
       "      <td>0</td>\n",
       "    </tr>\n",
       "    <tr>\n",
       "      <th>1</th>\n",
       "      <td>538000</td>\n",
       "      <td>0</td>\n",
       "      <td>0</td>\n",
       "      <td>0</td>\n",
       "      <td>0</td>\n",
       "      <td>0</td>\n",
       "      <td>0</td>\n",
       "      <td>0</td>\n",
       "      <td>0</td>\n",
       "      <td>0</td>\n",
       "      <td>...</td>\n",
       "      <td>0</td>\n",
       "      <td>0</td>\n",
       "      <td>0</td>\n",
       "      <td>0</td>\n",
       "      <td>0</td>\n",
       "      <td>0</td>\n",
       "      <td>671</td>\n",
       "      <td>0</td>\n",
       "      <td>3.99</td>\n",
       "      <td>1</td>\n",
       "    </tr>\n",
       "  </tbody>\n",
       "</table>\n",
       "<p>2 rows × 47 columns</p>\n",
       "</div>"
      ],
      "text/plain": [
       "    appid  windows;mac  windows;mac;linux  100000-200000  1000000-2000000  \\\n",
       "0  708830            0                  0              0                0   \n",
       "1  538000            0                  0              0                0   \n",
       "\n",
       "   10000000-20000000  20000-50000  200000-500000  2000000-5000000  \\\n",
       "0                  0            0              0                0   \n",
       "1                  0            0              0                0   \n",
       "\n",
       "   50000-100000  ...  Square Enix  THQ Nordic  Action;Indie;Casual  \\\n",
       "0             0  ...            0           0                    0   \n",
       "1             0  ...            0           0                    0   \n",
       "\n",
       "   Early Access;Action;Indie  Adventure;Indie;Casual  Indie;Casual  datedays  \\\n",
       "0                          0                       0             0       580   \n",
       "1                          0                       0             0       671   \n",
       "\n",
       "   winlin  price  point  \n",
       "0       0   2.89      0  \n",
       "1       0   3.99      1  \n",
       "\n",
       "[2 rows x 47 columns]"
      ]
     },
     "execution_count": 154,
     "metadata": {},
     "output_type": "execute_result"
    }
   ],
   "source": [
    "data.head(2)"
   ]
  },
  {
   "cell_type": "code",
   "execution_count": 148,
   "metadata": {},
   "outputs": [],
   "source": [
    "from matplotlib import pyplot as plt"
   ]
  },
  {
   "cell_type": "code",
   "execution_count": 219,
   "metadata": {},
   "outputs": [
    {
     "data": {
      "image/png": "[encoded data removed]",
      "text/plain": [
       "<Figure size 432x288 with 1 Axes>"
      ]
     },
     "metadata": {
      "needs_background": "light"
     },
     "output_type": "display_data"
    }
   ],
   "source": [
    "plt.scatter(data.point,data.price,color='red')\n",
    "plt.plot(data.point,polypred,color='blue')\n",
    "plt.show()"
   ]
  },
  {
   "cell_type": "code",
   "execution_count": 161,
   "metadata": {},
   "outputs": [],
   "source": []
  },
  {
   "cell_type": "code",
   "execution_count": 198,
   "metadata": {},
   "outputs": [
    {
     "data": {
      "text/plain": [
       "22539"
      ]
     },
     "execution_count": 198,
     "metadata": {},
     "output_type": "execute_result"
    }
   ],
   "source": [
    "len(xtrain)"
   ]
  },
  {
   "cell_type": "code",
   "execution_count": 199,
   "metadata": {},
   "outputs": [],
   "source": [
    "results = []\n",
    "value=0\n",
    "for value in range(len(xtrain)):\n",
    "    results.append(value)"
   ]
  },
  {
   "cell_type": "code",
   "execution_count": 200,
   "metadata": {},
   "outputs": [
    {
     "data": {
      "text/plain": [
       "22539"
      ]
     },
     "execution_count": 200,
     "metadata": {},
     "output_type": "execute_result"
    }
   ],
   "source": [
    "len(results)"
   ]
  },
  {
   "cell_type": "code",
   "execution_count": null,
   "metadata": {},
   "outputs": [],
   "source": []
  },
  {
   "cell_type": "code",
   "execution_count": 202,
   "metadata": {},
   "outputs": [],
   "source": [
    "data.drop('point',axis=1,inplace=True)"
   ]
  },
  {
   "cell_type": "code",
   "execution_count": null,
   "metadata": {},
   "outputs": [],
   "source": []
  },
  {
   "cell_type": "code",
   "execution_count": null,
   "metadata": {},
   "outputs": [],
   "source": []
  },
  {
   "cell_type": "markdown",
   "metadata": {},
   "source": [
    "#\n",
    "for label in top5:\n",
    "    data.drop(label,axis=1,inplace=True)\n",
    "    "
   ]
  },
  {
   "cell_type": "code",
   "execution_count": 127,
   "metadata": {
    "id": "DlV7fvWCG7gc"
   },
   "outputs": [],
   "source": [
    "real_x=data.iloc[:,1:45]\n",
    "real_y=data.iloc[:,45]"
   ]
  },
  {
   "cell_type": "code",
   "execution_count": 128,
   "metadata": {
    "id": "kc9CefvuIMCg"
   },
   "outputs": [],
   "source": [
    "from sklearn.model_selection import train_test_split"
   ]
  },
  {
   "cell_type": "code",
   "execution_count": 129,
   "metadata": {
    "id": "ZjuYM_vhJ0dI"
   },
   "outputs": [],
   "source": [
    "xtrain,xtest,ytrain,ytest=train_test_split(real_x,real_y,test_size=0.10)"
   ]
  },
  {
   "cell_type": "code",
   "execution_count": 130,
   "metadata": {
    "id": "Trletb9gKIyj"
   },
   "outputs": [],
   "source": [
    "from sklearn.linear_model import LinearRegression\n",
    "from sklearn.preprocessing import StandardScaler"
   ]
  },
  {
   "cell_type": "code",
   "execution_count": 131,
   "metadata": {
    "id": "Fz7GSnIhKb0i"
   },
   "outputs": [],
   "source": [
    "sc=StandardScaler()\n",
    "xtrain=sc.fit_transform(xtrain)\n",
    "xtest=sc.fit_transform(xtest)\n",
    "reg=LinearRegression()"
   ]
  },
  {
   "cell_type": "code",
   "execution_count": 203,
   "metadata": {},
   "outputs": [],
   "source": [
    "from sklearn.ensemble import RandomForestRegressor"
   ]
  },
  {
   "cell_type": "code",
   "execution_count": 204,
   "metadata": {},
   "outputs": [],
   "source": [
    "randomfor=RandomForestRegressor(n_estimators=10,random_state=0)"
   ]
  },
  {
   "cell_type": "code",
   "execution_count": 205,
   "metadata": {},
   "outputs": [
    {
     "data": {
      "text/plain": [
       "RandomForestRegressor(n_estimators=10, random_state=0)"
      ]
     },
     "execution_count": 205,
     "metadata": {},
     "output_type": "execute_result"
    }
   ],
   "source": [
    "randomfor.fit(xtrain,ytrain)"
   ]
  },
  {
   "cell_type": "code",
   "execution_count": 206,
   "metadata": {},
   "outputs": [],
   "source": [
    "ranpred=randomfor.predict(xtrain)"
   ]
  },
  {
   "cell_type": "code",
   "execution_count": 214,
   "metadata": {},
   "outputs": [],
   "source": [
    "from sklearn.preprocessing import PolynomialFeatures"
   ]
  },
  {
   "cell_type": "code",
   "execution_count": null,
   "metadata": {},
   "outputs": [],
   "source": [
    "pr=PolynomialFeatures(degree=3)\n",
    "realxpoly=pr.fit_transform(real_x)\n",
    "pr.fit(realxpoly,real_y)\n",
    "reg2=LinearRegression()\n",
    "reg2.fit(realxpoly,real_y)\n",
    "\n"
   ]
  },
  {
   "cell_type": "code",
   "execution_count": 218,
   "metadata": {},
   "outputs": [],
   "source": [
    "polypred=reg2.predict(realxpoly)"
   ]
  },
  {
   "cell_type": "code",
   "execution_count": null,
   "metadata": {},
   "outputs": [],
   "source": []
  },
  {
   "cell_type": "code",
   "execution_count": 132,
   "metadata": {
    "colab": {
     "base_uri": "https://localhost:8080/",
     "height": 36
    },
    "id": "6kpBETwsKiqC",
    "outputId": "096186da-0f48-406d-c72f-0b5cbd509c82"
   },
   "outputs": [
    {
     "data": {
      "text/plain": [
       "LinearRegression()"
      ]
     },
     "execution_count": 132,
     "metadata": {},
     "output_type": "execute_result"
    }
   ],
   "source": [
    "\n",
    "reg.fit(xtrain,ytrain)"
   ]
  },
  {
   "cell_type": "code",
   "execution_count": 133,
   "metadata": {
    "colab": {
     "base_uri": "https://localhost:8080/",
     "height": 241
    },
    "id": "FAr8n9hMKxob",
    "outputId": "23588f07-e309-4445-96c3-162884432b6e"
   },
   "outputs": [
    {
     "data": {
      "text/plain": [
       "10208     3.99\n",
       "7531      5.99\n",
       "2190      0.00\n",
       "2448     11.39\n",
       "6922      3.99\n",
       "         ...  \n",
       "19142     6.99\n",
       "19731     2.89\n",
       "13016     1.69\n",
       "15344     6.99\n",
       "10741     2.09\n",
       "Name: price, Length: 2505, dtype: float64"
      ]
     },
     "execution_count": 133,
     "metadata": {},
     "output_type": "execute_result"
    }
   ],
   "source": [
    "ypred=reg.predict(xtest)\n",
    "ytest"
   ]
  },
  {
   "cell_type": "code",
   "execution_count": 135,
   "metadata": {
    "colab": {
     "base_uri": "https://localhost:8080/",
     "height": 54
    },
    "id": "0DOrOP6WLUaa",
    "outputId": "64114613-195f-4fed-fbb1-d73cb917ed5f"
   },
   "outputs": [
    {
     "data": {
      "text/plain": [
       "array([7.0786906 , 7.21674503, 7.45366754, ..., 5.38146715, 4.75095519,\n",
       "       4.70904469])"
      ]
     },
     "execution_count": 135,
     "metadata": {},
     "output_type": "execute_result"
    }
   ],
   "source": [
    "ypred"
   ]
  },
  {
   "cell_type": "code",
   "execution_count": 93,
   "metadata": {
    "id": "IXfMBVK8SF8s"
   },
   "outputs": [],
   "source": [
    "dt=pd.read_csv('steam_test.csv')"
   ]
  },
  {
   "cell_type": "code",
   "execution_count": 94,
   "metadata": {},
   "outputs": [
    {
     "name": "stderr",
     "output_type": "stream",
     "text": [
      "C:\\Users\\sunny\\anaconda3\\lib\\site-packages\\ipykernel_launcher.py:32: SettingWithCopyWarning: \n",
      "A value is trying to be set on a copy of a slice from a DataFrame\n",
      "\n",
      "See the caveats in the documentation: https://pandas.pydata.org/pandas-docs/stable/user_guide/indexing.html#returning-a-view-versus-a-copy\n"
     ]
    }
   ],
   "source": [
    "dt1=pd.get_dummies(dt['owners'],drop_first=True)\n",
    "dt=pd.concat([dt1,dt],axis=1)\n",
    "dt.drop('owners',axis=1,inplace=True)\n",
    "dt1=pd.get_dummies(dt['platforms'],drop_first=True)\n",
    "dt=pd.concat([dt1,dt],axis=1)\n",
    "dt.drop('platforms',axis=1,inplace=True)\n",
    "top5=[x for x in dt.categories.value_counts().sort_values(ascending=False).head(5).index]\n",
    "for label in top5:\n",
    "    dt[label]=np.where(dt['categories']==label,1,0)\n",
    "dt.drop('categories',axis=1,inplace=True)    \n",
    "top5=[x for x in dt.genres.value_counts().sort_values(ascending=False).head(5).index]\n",
    "for label in top5:\n",
    "    dt[label]=np.where(dt['genres']==label,1,0)\n",
    "dt.drop('genres',axis=1,inplace=True)    \n",
    "dt.drop('name',axis=1,inplace=True) \n",
    "top5=[x for x in dt.developer.value_counts().sort_values(ascending=False).head(5).index]\n",
    "for label in top5:\n",
    "    dt[label]=np.where(dt['developer']==label,1,0)\n",
    "dt.drop('developer',axis=1,inplace=True) \n",
    "top5=[x for x in dt.publisher.value_counts().sort_values(ascending=False).head(5).index]\n",
    "for label in top5:\n",
    "    dt[label]=np.where(dt['publisher']==label,1,0)\n",
    "dt.drop('publisher',axis=1,inplace=True) \n",
    "top5=[x for x in dt.steamspy_tags.value_counts().sort_values(ascending=False).head(5).index]\n",
    "for label in top5:\n",
    "    dt[label]=np.where(dt['steamspy_tags']==label,1,0)\n",
    "dt.drop('steamspy_tags',axis=1,inplace=True) \n",
    "dt.release_date=pd.to_datetime(dt.release_date)\n",
    "temp=dt.release_date.max()\n",
    "dt['datedays']=dt['appid']\n",
    "for it in range(len(dt)):\n",
    "    dt['datedays'][it]=abs(temp-dt['release_date'][it]).days\n",
    "dt.drop('release_date',axis=1,inplace=True)"
   ]
  },
  {
   "cell_type": "code",
   "execution_count": 104,
   "metadata": {},
   "outputs": [],
   "source": [
    "dt['winlin']=dt['windows;linux']\n",
    "dt['windows;linux']=dt['appid']\n",
    "dt.drop('appid',axis=1,inplace=True)\n",
    "dt.rename(columns={'windows;linux': 'appid'}, inplace=True)"
   ]
  },
  {
   "cell_type": "code",
   "execution_count": 105,
   "metadata": {},
   "outputs": [],
   "source": [
    "dt.to_csv('ghoonghro.csv')"
   ]
  },
  {
   "cell_type": "code",
   "execution_count": 142,
   "metadata": {},
   "outputs": [],
   "source": [
    "testing_x=dt.iloc[:,1:45]\n",
    "testing_x=sc.fit_transform(testing_x)"
   ]
  },
  {
   "cell_type": "code",
   "execution_count": null,
   "metadata": {},
   "outputs": [],
   "source": []
  },
  {
   "cell_type": "code",
   "execution_count": 210,
   "metadata": {
    "id": "smmAItjWvQnu"
   },
   "outputs": [],
   "source": [
    "actualpred=randomfor.predict(testing_x)"
   ]
  },
  {
   "cell_type": "code",
   "execution_count": 211,
   "metadata": {
    "colab": {
     "base_uri": "https://localhost:8080/",
     "height": 54
    },
    "id": "3dfCFGcDvjSv",
    "outputId": "725b40e3-6a19-43a7-bf1e-271bc476aeba"
   },
   "outputs": [
    {
     "data": {
      "text/plain": [
       "array([8.711, 9.761, 4.041, ..., 8.26 , 2.76 , 7.69 ])"
      ]
     },
     "execution_count": 211,
     "metadata": {},
     "output_type": "execute_result"
    }
   ],
   "source": [
    "actualpred"
   ]
  },
  {
   "cell_type": "code",
   "execution_count": 212,
   "metadata": {
    "id": "7MxamZGUd-2W"
   },
   "outputs": [],
   "source": [
    "dt['price']=actualpred"
   ]
  },
  {
   "cell_type": "code",
   "execution_count": 213,
   "metadata": {},
   "outputs": [],
   "source": [
    "dt.to_csv('gamepricesubmission.csv')"
   ]
  },
  {
   "cell_type": "code",
   "execution_count": null,
   "metadata": {},
   "outputs": [],
   "source": []
  }
 ],
 "metadata": {
  "colab": {
   "name": "AvishkarPS1.ipynb",
   "provenance": []
  },
  "kernelspec": {
   "display_name": "Python 3",
   "language": "python",
   "name": "python3"
  },
  "language_info": {
   "codemirror_mode": {
    "name": "ipython",
    "version": 3
   },
   "file_extension": ".py",
   "mimetype": "text/x-python",
   "name": "python",
   "nbconvert_exporter": "python",
   "pygments_lexer": "ipython3",
   "version": "3.6.10"
  }
 },
 "nbformat": 4,
 "nbformat_minor": 1
}
